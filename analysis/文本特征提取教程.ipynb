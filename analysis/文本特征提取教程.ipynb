{
 "cells": [
  {
   "cell_type": "markdown",
   "id": "5fa1233f",
   "metadata": {},
   "source": [
    "#### 文本特征提取\n",
    "1. 文档频率\n",
    "2. 信息增益\n",
    "3. 互信息\n",
    "4. X^2统计\n",
    "5. TFIDF\n",
    "\n",
    "#### 如何比较文本相似度？\n",
    "1. 协同过滤相似度\n",
    "2. 余弦相似度\n",
    "3. tf-idf相似度\n",
    "4. 深度学习词向量\n",
    "\n",
    "#### 如何利用深度学习计算语义相似度？"
   ]
  },
  {
   "cell_type": "code",
   "execution_count": null,
   "id": "73c99f1e",
   "metadata": {},
   "outputs": [],
   "source": []
  },
  {
   "cell_type": "code",
   "execution_count": null,
   "id": "60d997af",
   "metadata": {},
   "outputs": [],
   "source": []
  },
  {
   "cell_type": "code",
   "execution_count": null,
   "id": "0ea6c040",
   "metadata": {},
   "outputs": [],
   "source": []
  },
  {
   "cell_type": "code",
   "execution_count": null,
   "id": "3527a428",
   "metadata": {},
   "outputs": [],
   "source": []
  },
  {
   "cell_type": "code",
   "execution_count": null,
   "id": "a2353341",
   "metadata": {},
   "outputs": [],
   "source": []
  },
  {
   "cell_type": "code",
   "execution_count": null,
   "id": "d6397e18",
   "metadata": {},
   "outputs": [],
   "source": []
  },
  {
   "cell_type": "code",
   "execution_count": null,
   "id": "0787e7e1",
   "metadata": {},
   "outputs": [],
   "source": []
  }
 ],
 "metadata": {
  "kernelspec": {
   "display_name": "Python 3 (ipykernel)",
   "language": "python",
   "name": "python3"
  },
  "language_info": {
   "codemirror_mode": {
    "name": "ipython",
    "version": 3
   },
   "file_extension": ".py",
   "mimetype": "text/x-python",
   "name": "python",
   "nbconvert_exporter": "python",
   "pygments_lexer": "ipython3",
   "version": "3.9.7"
  }
 },
 "nbformat": 4,
 "nbformat_minor": 5
}
