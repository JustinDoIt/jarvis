{
 "cells": [
  {
   "cell_type": "code",
   "execution_count": 4,
   "id": "779cff9e",
   "metadata": {},
   "outputs": [],
   "source": [
    "from sklearn.feature_extraction.text import TfidfVectorizer\n",
    "import pandas as pd"
   ]
  },
  {
   "cell_type": "markdown",
   "id": "24ac75e1",
   "metadata": {},
   "source": [
    "# 数据"
   ]
  },
  {
   "cell_type": "code",
   "execution_count": 7,
   "id": "17d3738e",
   "metadata": {},
   "outputs": [
    {
     "name": "stdout",
     "output_type": "stream",
     "text": [
      "2021年Bioinformatics发文数量：1227\n"
     ]
    },
    {
     "data": {
      "text/plain": [
       "0            Visual Exploration of Large Metabolic Models\n",
       "1       Topology-based sparsification of graph annotat...\n",
       "2       Peel Learning for Pathway-Related Outcome Pred...\n",
       "3       Multi-omics Data Integration by Generative Adv...\n",
       "4       Gene tree and species tree reconciliation with...\n",
       "                              ...                        \n",
       "1222    CNVfilteR: an R/bioconductor package to identi...\n",
       "1223    RNA-SeQC 2: Efficient RNA-seq quality control ...\n",
       "1224    d-PBWT: dynamic positional Burrows-Wheeler tra...\n",
       "1225    Robust and ultrafast fiducial marker correspon...\n",
       "1226    LipidFinder 2.0: advanced informatics pipeline...\n",
       "Name: Title, Length: 1227, dtype: object"
      ]
     },
     "execution_count": 7,
     "metadata": {},
     "output_type": "execute_result"
    }
   ],
   "source": [
    "titles = pd.read_csv('../../data/csv-Bioinforma-set.csv')['Title']\n",
    "print(f\"2021年Bioinformatics发文数量：{len(titles)}\")\n",
    "titles"
   ]
  },
  {
   "cell_type": "markdown",
   "id": "3b6c8550",
   "metadata": {},
   "source": [
    "# 找出溶解度相关的文章"
   ]
  },
  {
   "cell_type": "code",
   "execution_count": 11,
   "id": "a1e2449a",
   "metadata": {},
   "outputs": [],
   "source": [
    "import sys\n",
    "sys.path.append('../')\n",
    "from translate import translate_baidu_api"
   ]
  },
  {
   "cell_type": "code",
   "execution_count": 18,
   "id": "30acf273",
   "metadata": {},
   "outputs": [],
   "source": [
    "def print_(texts, msg=''):\n",
    "    print(f\"{msg}相关文献共有{len(texts)}篇\")\n",
    "    for text in texts:\n",
    "        print(text)\n",
    "        print(translate_baidu_api(text))\n",
    "        print('-'*60)"
   ]
  },
  {
   "cell_type": "code",
   "execution_count": 13,
   "id": "efb9f4da",
   "metadata": {},
   "outputs": [
    {
     "data": {
      "text/plain": [
       "40"
      ]
     },
     "execution_count": 13,
     "metadata": {},
     "output_type": "execute_result"
    }
   ],
   "source": [
    "transcrip_papers = [title for title in titles if re.findall('transcrip*', title)]\n",
    "len(transcrip_papers)"
   ]
  },
  {
   "cell_type": "code",
   "execution_count": 16,
   "id": "bfdf8a02",
   "metadata": {},
   "outputs": [
    {
     "name": "stdout",
     "output_type": "stream",
     "text": [
      "stPlus: a reference-based method for the accurate enhancement of spatial transcriptomics\n",
      "stPlus：一种精确增强空间转录组学的参考方法\n",
      "------------------------------------------------------------\n",
      "Statistical approaches for differential expression analysis in metatranscriptomics\n",
      "转录组学差异表达分析的统计方法\n",
      "------------------------------------------------------------\n",
      "A comparison of rule-based and centroid single-sample multiclass predictors for transcriptomic classification\n",
      "转录组分类中基于规则和质心的单样本多类预测因子的比较\n",
      "------------------------------------------------------------\n",
      "Phylotranscriptomic patterns of network stochasticity and pathway dynamics during embryogenesis\n",
      "胚胎发生过程中网络随机性和路径动力学的系统转录组学模式\n",
      "------------------------------------------------------------\n",
      "Differential transcript usage analysis of bulk and single-cell RNA-seq data with DTUrtle\n",
      "用DTUrtle分析批量和单细胞RNA序列数据的差异转录本使用情况\n",
      "------------------------------------------------------------\n",
      "Tfcancer: a manually curated database of transcription factors associated with human cancers\n",
      "Tfcancer：一个与人类癌症相关的转录因子手动管理数据库\n",
      "------------------------------------------------------------\n",
      "utr.annotation: a tool for annotating genomic variants that could influence post-transcriptional regulation\n",
      "utr。注释：用于注释可能影响转录后调节的基因组变体的工具\n",
      "------------------------------------------------------------\n",
      "TPWshiny: an interactive R/Shiny app to explore cell line transcriptional responses to anti-cancer drugs\n",
      "TPWshiny：一款交互式R/Shiny应用程序，用于探索细胞系对抗癌药物的转录反应\n",
      "------------------------------------------------------------\n",
      "TFcancer: a manually curated database of transcription factors associated with human cancer\n",
      "TFcancer：一个与人类癌症相关的转录因子手动管理数据库\n",
      "------------------------------------------------------------\n",
      "Hubness reduction improves clustering and trajectory inference in single-cell transcriptomic data\n",
      "Hubbness约简改进了单细胞转录组数据的聚类和轨迹推断\n",
      "------------------------------------------------------------\n",
      "Weakly supervised learning of RNA modifications from low-resolution epitranscriptome data\n",
      "低分辨率上转录组数据中RNA修饰的弱监督学习\n",
      "------------------------------------------------------------\n",
      "Assessing heterogeneity in spatial data using the HTA index with applications to spatial transcriptomics and imaging\n",
      "使用HTA指数评估空间数据的异质性，并应用于空间转录组学和成像\n",
      "------------------------------------------------------------\n",
      "SPOT: a web-tool enabling swift profiling of transcriptomes\n",
      "SPOT：一个能够快速分析转录组的网络工具\n",
      "------------------------------------------------------------\n",
      "Scalable inference of transcriptional kinetic parameters from MS2 time series data\n",
      "从MS2时间序列数据可伸缩推断转录动力学参数\n",
      "------------------------------------------------------------\n",
      "Predicting mechanism of action of novel compounds using compound structure and transcriptomic signature coembedding\n",
      "利用化合物结构和转录组学特征共嵌入预测新化合物的作用机制\n",
      "------------------------------------------------------------\n",
      "Ryūtō: Improved multi-sample transcript assembly for differential transcript expression analysis and more\n",
      "Ryūtō：改进的多样本转录本组装，用于差异转录本表达分析等\n",
      "------------------------------------------------------------\n",
      "TIMEx: tumor-immune microenvironment deconvolution web-portal for bulk transcriptomics using pan-cancer scRNA-seq signatures\n",
      "TIMEx：肿瘤免疫微环境反褶积门户网站，用于使用泛癌scRNA序列签名的批量转录组学\n",
      "------------------------------------------------------------\n",
      "Erratum to: An information-theoretic approach for measuring the distance of organ tissue samples using their transcriptomic signatures\n",
      "勘误表至：利用转录组特征测量器官组织样本距离的信息论方法\n",
      "------------------------------------------------------------\n",
      "Biphasic regulation of transcriptional surge generated by the gene feedback loop in a two-component system\n",
      "双组分系统中基因反馈环产生的转录激增的双相调节\n",
      "------------------------------------------------------------\n",
      "BloodGen3Module: Blood transcriptional module repertoire analysis and visualization using R\n",
      "BloodGen3模块：使用R\n",
      "------------------------------------------------------------\n",
      "Deep feature extraction of single-cell transcriptomes by generative adversarial network\n",
      "基于生成对抗网络的单细胞转录组深度特征提取\n",
      "------------------------------------------------------------\n",
      "Swan: a library for the analysis and visualization of long-read transcriptomes\n",
      "Swan：一个用于长阅读转录组分析和可视化的库\n",
      "------------------------------------------------------------\n",
      "FuSe: a tool to move RNA-Seq analyses from chromosomal/gene loci to functional grouping of mRNA transcripts\n",
      "FuSe：将RNA-Seq分析从染色体/基因位点转移到mRNA转录本功能分组的工具\n",
      "------------------------------------------------------------\n",
      "A2Sign: Agnostic algorithms for signatures - a universal method for identifying molecular signatures from transcriptomic datasets prior to cell-type deconvolution\n",
      "A2Sign：用于特征的不可知算法-在细胞类型反褶积之前从转录组数据集中识别分子特征的通用方法\n",
      "------------------------------------------------------------\n",
      "Hierarchical Bayesian models of transcriptional and translational regulation processes with delays\n",
      "具有时滞的转录和翻译调控过程的层次贝叶斯模型\n",
      "------------------------------------------------------------\n",
      "MAT2: Manifold alignment of single-cell transcriptomes with cell triplets\n",
      "MAT2：单细胞转录组与细胞三联体的多重比对\n",
      "------------------------------------------------------------\n",
      "Integrarative transcription start site identification with iTiSS\n",
      "整合转录起始位点的ITIS鉴定\n",
      "------------------------------------------------------------\n",
      "MetaTX: deciphering the distribution of mRNA-related features in the presence of isoform ambiguity, with applications in epitranscriptome analysis\n",
      "MetaTX：在存在异构体歧义的情况下解读mRNA相关特征的分布，并应用于外转录组分析\n",
      "------------------------------------------------------------\n",
      "DoubleRecViz: a web-based tool for visualizing transcript-gene-species tree reconciliation\n",
      "DoubleRecViz：一种基于web的可视化转录基因物种树协调工具\n",
      "------------------------------------------------------------\n",
      "BART3D: Inferring transcriptional regulators associated with differential chromatin interactions from Hi-C data\n",
      "BART3D：从Hi-C数据推断与差异染色质相互作用相关的转录调节因子\n",
      "------------------------------------------------------------\n",
      "IsoTV: processing and visualizing functional features of translated transcript isoforms\n",
      "IsoTV：翻译转录物亚型的加工和可视化功能特征\n",
      "------------------------------------------------------------\n",
      "IntAPT: integrated assembly of phenotype-specific transcripts from multiple RNA-seq profiles\n",
      "IntAPT：来自多个RNA序列图谱的表型特异性转录物的整合组装\n",
      "------------------------------------------------------------\n",
      "Prioritizing transcriptomic and epigenomic experiments using an optimization strategy that leverages imputed data\n",
      "使用利用估算数据的优化策略对转录组学和表观基因组学实验进行优先排序\n",
      "------------------------------------------------------------\n",
      "Characterizing therapeutic signatures of transcription factors in cancer by incorporating profiles in compound treated cells\n",
      "通过在化合物处理的细胞中整合谱来表征癌症中转录因子的治疗特征\n",
      "------------------------------------------------------------\n",
      "Erratum to: Assessing heterogeneity in spatial data using the HTA index with applications to spatial transcriptomics and imaging\n",
      "勘误表至：使用HTA指数评估空间数据的异质性，并应用于空间转录组学和成像\n",
      "------------------------------------------------------------\n",
      "GNET2: an R package for constructing gene regulatory networks from transcriptomic data\n",
      "GNET2：从转录组数据构建基因调控网络的R包\n",
      "------------------------------------------------------------\n",
      "FastBMD: an online tool for rapid benchmark dose-response analysis of transcriptomics data\n",
      "FastBMD：转录组学数据快速基准剂量反应分析的在线工具\n",
      "------------------------------------------------------------\n",
      "Transcriptor: a comprehensive platform for annotation of the enzymatic functions of transcripts\n",
      "转录子：转录子酶功能注释的综合平台\n",
      "------------------------------------------------------------\n",
      "An information-theoretic approach for measuring the distance of organ tissue samples using their transcriptomic signatures\n",
      "利用转录组特征测量器官组织样本距离的信息论方法\n",
      "------------------------------------------------------------\n",
      "SplicingFactory-splicing diversity analysis for transcriptome data\n",
      "转录组数据的SplicingFactory剪接多样性分析\n",
      "------------------------------------------------------------\n"
     ]
    }
   ],
   "source": [
    "print_(transcrip_papers)"
   ]
  },
  {
   "cell_type": "code",
   "execution_count": 12,
   "id": "deb5f5ee",
   "metadata": {
    "scrolled": true
   },
   "outputs": [
    {
     "name": "stdout",
     "output_type": "stream",
     "text": [
      "NetSolP: predicting protein solubility in E. coli using language models\n",
      "NetSolP：使用语言模型预测蛋白质在大肠杆菌中的溶解度\n",
      "----------------------------------------------------------------------------------------------------\n",
      "Omics community detection using multi-resolution clustering\n",
      "基于多分辨率聚类的组学社区检测\n",
      "----------------------------------------------------------------------------------------------------\n",
      "EPSOL: sequence-based protein solubility prediction using multidimensional embedding\n",
      "EPSOL：基于序列的多维嵌入蛋白质溶解度预测\n",
      "----------------------------------------------------------------------------------------------------\n",
      "ClustENMD: Efficient sampling of biomolecular conformational space at atomic resolution\n",
      "ClustENMD：原子分辨率下生物分子构象空间的有效采样\n",
      "----------------------------------------------------------------------------------------------------\n",
      "Weakly supervised learning of RNA modifications from low-resolution epitranscriptome data\n",
      "低分辨率上转录组数据中RNA修饰的弱监督学习\n",
      "----------------------------------------------------------------------------------------------------\n",
      "EnHiC: learning fine-resolution Hi-C contact maps using a generative adversarial framework\n",
      "EnHiC：使用生成性对抗框架学习高分辨率Hi-C接触图\n",
      "----------------------------------------------------------------------------------------------------\n",
      "A convolutional neural network for common coordinate registration of high-resolution histology images\n",
      "用于高分辨率组织学图像共坐标配准的卷积神经网络\n",
      "----------------------------------------------------------------------------------------------------\n",
      "DeepS: A web server for image optical sectioning and super resolution microscopy based on a deep learning framework\n",
      "DeepS：基于深度学习框架的图像光学切片和超分辨率显微镜的web服务器\n",
      "----------------------------------------------------------------------------------------------------\n",
      "A semi-supervised model to predict regulatory effects of genetic variants at single nucleotide resolution using massively parallel reporter assays\n",
      "使用大规模平行报告分析预测单核苷酸分辨率下遗传变异调节效应的半监督模型\n",
      "----------------------------------------------------------------------------------------------------\n",
      "ILoReg: a tool for high-resolution cell population identification from single-cell RNA-seq data\n",
      "ILoReg：一种从单细胞RNA序列数据识别高分辨率细胞群体的工具\n",
      "----------------------------------------------------------------------------------------------------\n",
      "A novel constrained reconstruction model towards high-resolution subtomogram averaging\n",
      "一种新的高分辨率次谱平均约束重建模型\n",
      "----------------------------------------------------------------------------------------------------\n",
      "Knowledge Enhanced LSTM for Coreference Resolution on Biomedical Texts\n",
      "基于知识增强的LSTM的生物医学文本共指消解\n",
      "----------------------------------------------------------------------------------------------------\n",
      "preciseTAD: A transfer learning framework for 3D domain boundary prediction at base-pair resolution\n",
      "preciseTAD：一种基于碱基对分辨率的3D域边界预测转移学习框架\n",
      "----------------------------------------------------------------------------------------------------\n",
      "AmpliCI: a high-resolution model-based approach for denoising Illumina amplicon data\n",
      "AmpliCI：一种基于高分辨率模型的Illumina amplicon数据去噪方法\n",
      "----------------------------------------------------------------------------------------------------\n"
     ]
    }
   ],
   "source": [
    "import re\n",
    "for i in titles:\n",
    "    if re.findall('solub*', i):\n",
    "        print(i)\n",
    "        print(translate_baidu_api(i))\n",
    "        print('-'*100)"
   ]
  },
  {
   "cell_type": "code",
   "execution_count": null,
   "id": "30cb6c53",
   "metadata": {},
   "outputs": [],
   "source": []
  },
  {
   "cell_type": "code",
   "execution_count": null,
   "id": "4a56aa43",
   "metadata": {},
   "outputs": [],
   "source": []
  }
 ],
 "metadata": {
  "kernelspec": {
   "display_name": "Python 3 (ipykernel)",
   "language": "python",
   "name": "python3"
  },
  "language_info": {
   "codemirror_mode": {
    "name": "ipython",
    "version": 3
   },
   "file_extension": ".py",
   "mimetype": "text/x-python",
   "name": "python",
   "nbconvert_exporter": "python",
   "pygments_lexer": "ipython3",
   "version": "3.9.7"
  }
 },
 "nbformat": 4,
 "nbformat_minor": 5
}
